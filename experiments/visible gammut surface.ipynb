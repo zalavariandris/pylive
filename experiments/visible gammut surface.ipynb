{
 "cells": [
  {
   "cell_type": "code",
   "execution_count": 1,
   "metadata": {},
   "outputs": [
    {
     "name": "stderr",
     "output_type": "stream",
     "text": [
      "c:\\dev\\src\\pylive\\.venv\\Lib\\site-packages\\colour\\utilities\\verbose.py:322: ColourUsageWarning: \"Matplotlib\" related API features are not available: \"No module named 'matplotlib'\".\n",
      "See the installation guide for more information: https://www.colour-science.org/installation-guide/\n",
      "  warn(*args, **kwargs)  # noqa: B028\n"
     ]
    }
   ],
   "source": [
    "import colour\n",
    "import numpy as np"
   ]
  },
  {
   "cell_type": "code",
   "execution_count": 2,
   "metadata": {},
   "outputs": [
    {
     "data": {
      "text/plain": [
       "array([[ 1.,  0.,  0.,  0.,  0.,  0.,  0.,  0.,  0.,  0.],\n",
       "       [ 1.,  1.,  0.,  0.,  0.,  0.,  0.,  0.,  0.,  0.],\n",
       "       [ 1.,  1.,  1.,  0.,  0.,  0.,  0.,  0.,  0.,  0.],\n",
       "       [ 1.,  1.,  1.,  1.,  0.,  0.,  0.,  0.,  0.,  0.],\n",
       "       [ 1.,  1.,  1.,  1.,  1.,  0.,  0.,  0.,  0.,  0.],\n",
       "       [ 1.,  1.,  1.,  1.,  1.,  1.,  0.,  0.,  0.,  0.],\n",
       "       [ 1.,  1.,  1.,  1.,  1.,  1.,  1.,  0.,  0.,  0.],\n",
       "       [ 1.,  1.,  1.,  1.,  1.,  1.,  1.,  1.,  0.,  0.],\n",
       "       [ 1.,  1.,  1.,  1.,  1.,  1.,  1.,  1.,  1.,  0.]])"
      ]
     },
     "execution_count": 2,
     "metadata": {},
     "output_type": "execute_result"
    }
   ],
   "source": [
    "samples = 10\n",
    "a = np.tril(\n",
    "    np.ones((samples, samples))\n",
    ")[0:-1, :]\n",
    "\n",
    "a"
   ]
  },
  {
   "cell_type": "code",
   "execution_count": 3,
   "metadata": {},
   "outputs": [
    {
     "data": {
      "text/plain": [
       "<MagicMock name='mock.pyplot.plot()' id='2361445235216'>"
      ]
     },
     "execution_count": 3,
     "metadata": {},
     "output_type": "execute_result"
    }
   ],
   "source": [
    "def generate_square_waves(samples):\n",
    "    square_waves = []\n",
    "    square_waves_basis = np.tril(\n",
    "        np.ones((samples, samples))\n",
    "    )[0:-1, :]\n",
    "    for i in range(samples):\n",
    "        square_waves.append(np.roll(square_waves_basis, i))\n",
    "\n",
    "    return np.vstack((np.zeros(samples), np.vstack(square_waves),\n",
    "                    np.ones(samples)))\n",
    "\n",
    "\n",
    "square_waves = generate_square_waves(10)\n",
    "\n",
    "import matplotlib.pyplot as plt\n",
    "\n",
    "plt.plot(square_waves)"
   ]
  },
  {
   "cell_type": "code",
   "execution_count": 4,
   "metadata": {},
   "outputs": [
    {
     "data": {
      "text/plain": [
       "<MagicMock name='mock.pyplot.show()' id='2361447764752'>"
      ]
     },
     "execution_count": 4,
     "metadata": {},
     "output_type": "execute_result"
    }
   ],
   "source": [
    "import numpy as np\n",
    "import matplotlib.pyplot as plt\n",
    "\n",
    "# Generate x values (from 0 to 4π with small steps for smoothness)\n",
    "x = np.linspace(0, 4 * np.pi, 1000)\n",
    "\n",
    "# Generate y values (sine of x)\n",
    "y = np.sin(x)\n",
    "\n",
    "# Create the plot\n",
    "plt.figure(figsize=(10, 6))\n",
    "plt.plot(x, y, label='Sine Wave', color='blue')\n",
    "\n",
    "# Add title and labels\n",
    "plt.title('Sine Wave')\n",
    "plt.xlabel('x (radians)')\n",
    "plt.ylabel('sin(x)')\n",
    "\n",
    "# Add a grid and legend\n",
    "plt.grid(True, linestyle='--', alpha=0.6)\n",
    "plt.legend()\n",
    "\n",
    "# Show the plot\n",
    "plt.show()\n"
   ]
  },
  {
   "cell_type": "code",
   "execution_count": 5,
   "metadata": {},
   "outputs": [
    {
     "name": "stdout",
     "output_type": "stream",
     "text": [
      "[array([ 0.,  0.,  0.]), array([ 0.01631604,  0.00047563,  0.07673811]), array([ 1.88486816,  0.05452526,  9.02681539]), array([ 15.48104965,   2.14611802,  82.52816501]), array([ 17.40523943,  19.76854386,  99.27730797]), array([ 31.28798826,  55.38352662,  99.97454365]), array([  75.92749446,   90.13296869,  100.03097957]), array([  98.32765844,   99.38824998,  100.03325489]), array([  99.90110318,   99.96151761,  100.03325489]), array([ 100.00511781,   99.99907801,  100.03325489]), array([ 1.86855212,  0.05404963,  8.95007728]), array([ 15.46473361,   2.14564238,  82.4514269 ]), array([ 17.38892339,  19.76806823,  99.20056986]), array([ 31.27167222,  55.38305099,  99.89780553]), array([ 75.91117843,  90.13249306,  99.95424145]), array([ 98.3113424 ,  99.38777435,  99.95651678]), array([ 99.88478715,  99.96104198,  99.95651678]), array([ 99.98880177,  99.99860237,  99.95651678]), array([ 99.99135494,  99.99952437,  99.95651678]), array([ 13.61249752,   2.09206839,  73.57808773]), array([ 15.52037127,  19.7140186 ,  90.25049258]), array([ 29.4031201 ,  55.32900136,  90.94772825]), array([ 74.0426263 ,  90.07844343,  91.00416417]), array([ 96.44279028,  99.33372472,  91.0064395 ]), array([ 98.01623502,  99.90699236,  91.0064395 ]), array([ 98.12024965,  99.94455275,  91.0064395 ]), array([ 98.12280281,  99.94547474,  91.0064395 ]), array([ 98.12280281,  99.94547474,  91.0064395 ]), array([  3.80905794,  17.6769511 ,  25.77595835]), array([ 15.80693861,  53.2374086 ,  17.44637863]), array([ 60.44644482,  87.98685068,  17.50281455]), array([ 82.84660879,  97.24213196,  17.50508988]), array([ 84.42005354,  97.8153996 ,  17.50508988]), array([ 84.52406816,  97.85295999,  17.50508988]), array([ 84.52662133,  97.85388198,  17.50508988]), array([ 84.52662133,  97.85388198,  17.50508988]), array([ 84.54293736,  97.85435762,  17.58182799]), array([ 29.36379848,  37.76110077,  83.22540068]), array([ 58.52225504,  70.36442483,   0.75367159]), array([ 80.92241901,  79.61970612,   0.75594692]), array([ 82.49586376,  80.19297375,   0.75594692]), array([ 82.59987838,  80.23053414,   0.75594692]), array([ 82.60243155,  80.23145614,   0.75594692]), array([ 82.60243155,  80.23145614,   0.75594692]), array([ 82.61874758,  80.23193177,   0.83268503]), array([ 84.48729971,  80.2859814 ,   9.78276231]), array([ 62.04474564,  54.51798593,  99.3337439 ]), array([  6.70396702e+01,   4.40047234e+01,   5.87112454e-02]), array([  6.86131149e+01,   4.45779910e+01,   5.87112454e-02]), array([  6.87171296e+01,   4.46155514e+01,   5.87112454e-02]), array([  6.87196827e+01,   4.46164734e+01,   5.87112454e-02]), array([  6.87196827e+01,   4.46164734e+01,   5.87112454e-02]), array([ 68.73599875,  44.61694901,   0.13544936]), array([ 70.60455088,  44.67099864,   9.08552664]), array([ 84.20073236,  46.7625914 ,  82.58687626]), array([ 53.68815223,  64.63880791,  99.97681897]), array([  2.39736087e+01,   9.82854892e+00,   2.27532402e-03]), array([  2.40776233e+01,   9.86610932e+00,   2.27532402e-03]), array([  2.40801765e+01,   9.86703131e+00,   2.27532402e-03]), array([  2.40801765e+01,   9.86703131e+00,   2.27532402e-03]), array([ 24.09649254,   9.86750694,   0.07901344]), array([ 25.96504467,   9.92155657,   9.02909072]), array([ 39.56122615,  12.01314932,  82.53044034]), array([ 41.48541593,  29.63557517,  99.2795833 ]), array([  77.50093921,   90.70623632,  100.03097957]), array([  1.67745937e+00,   6.10828025e-01,   3.31935193e-24]), array([  1.68001254e+00,   6.11750020e-01,   3.31935193e-24]), array([  1.68001254e+00,   6.11750020e-01,   3.31935193e-24]), array([ 1.69632857,  0.61222565,  0.07673811]), array([ 3.5648807 ,  0.66627528,  9.02681539]), array([ 17.16106218,   2.75786804,  82.52816501]), array([ 19.08525196,  20.38029388,  99.27730797]), array([ 32.96800079,  55.99527664,  99.97454365]), array([  98.43167306,   99.42581037,  100.03325489]), array([ 0.10656779,  0.03848239,  0.        ]), array([ 0.10656779,  0.03848239,  0.        ]), array([ 0.12288382,  0.03895802,  0.07673811]), array([ 1.99143595,  0.09300764,  9.02681539]), array([ 15.58761743,   2.1846004 ,  82.52816501]), array([ 17.51180722,  19.80702625,  99.27730797]), array([ 31.39455604,  55.422009  ,  99.97454365]), array([  76.03406225,   90.17145108,  100.03097957]), array([  99.90365635,   99.96243961,  100.03325489]), array([ 0.00255316,  0.00092199,  0.        ]), array([ 0.0188692 ,  0.00139763,  0.07673811]), array([ 1.88742132,  0.05544725,  9.02681539]), array([ 15.48360281,   2.14704001,  82.52816501]), array([ 17.40779259,  19.76946586,  99.27730797]), array([ 31.29054142,  55.38444861,  99.97454365]), array([  75.93004763,   90.13389068,  100.03097957]), array([  98.3302116 ,   99.38917197,  100.03325489]), array([ 100.00767097,  100.        ,  100.03325489])]\n"
     ]
    }
   ],
   "source": [
    "class NearestNeighbourInterpolator(colour.KernelInterpolator):\n",
    "    def __init__(self, *args, **kwargs):\n",
    "        kwargs['kernel'] = colour.kernel_nearest_neighbour\n",
    "        super(NearestNeighbourInterpolator, self).__init__(*args, **kwargs)\n",
    "\n",
    "def XYZ_outer_surface(samples):\n",
    "    XYZ = []\n",
    "    wavelengths = np.linspace(360,\n",
    "                            780, samples)\n",
    "\n",
    "    for wave in generate_square_waves(samples):\n",
    "        spd = colour.SpectralDistribution(\n",
    "            wave, wavelengths).align(\n",
    "                colour.SpectralShape(360,780,10),  \n",
    "                interpolator=NearestNeighbourInterpolator)\n",
    "        XYZ.append(colour.sd_to_XYZ(spd))\n",
    "    return XYZ\n",
    "    # return np.array(XYZ).reshape(len(XY@wavelength = fit(percent, 0.0, 1.0, ch(\"wavelength_min\"), percent);Z), -1, 3)\n",
    "    \n",
    "\n",
    "points = XYZ_outer_surface(10)\n",
    "\n",
    "print(points)"
   ]
  }
 ],
 "metadata": {
  "kernelspec": {
   "display_name": ".venv",
   "language": "python",
   "name": "python3"
  },
  "language_info": {
   "codemirror_mode": {
    "name": "ipython",
    "version": 3
   },
   "file_extension": ".py",
   "mimetype": "text/x-python",
   "name": "python",
   "nbconvert_exporter": "python",
   "pygments_lexer": "ipython3",
   "version": "3.12.8"
  }
 },
 "nbformat": 4,
 "nbformat_minor": 2
}
