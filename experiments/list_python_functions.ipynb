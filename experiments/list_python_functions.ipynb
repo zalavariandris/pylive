{
 "cells": [
  {
   "cell_type": "code",
   "execution_count": null,
   "metadata": {},
   "outputs": [
    {
     "name": "stdout",
     "output_type": "stream",
     "text": [
      "get_ipython\n",
      "exit\n",
      "quit\n",
      "open\n"
     ]
    }
   ],
   "source": [
    "import inspect\n",
    "\n",
    "ctx = globals()\n",
    "for name, value in ctx.items():\n",
    "    if name.startswith(\"_\"):\n",
    "        continue\n",
    "    if inspect.ismodule(value):\n",
    "        \n",
    "    if callable(value):\n",
    "        print(f\"f {name}\")\n"
   ]
  },
  {
   "cell_type": "code",
   "execution_count": null,
   "metadata": {},
   "outputs": [],
   "source": []
  }
 ],
 "metadata": {
  "kernelspec": {
   "display_name": ".venv",
   "language": "python",
   "name": "python3"
  },
  "language_info": {
   "codemirror_mode": {
    "name": "ipython",
    "version": 3
   },
   "file_extension": ".py",
   "mimetype": "text/x-python",
   "name": "python",
   "nbconvert_exporter": "python",
   "pygments_lexer": "ipython3",
   "version": "3.12.9"
  }
 },
 "nbformat": 4,
 "nbformat_minor": 2
}
