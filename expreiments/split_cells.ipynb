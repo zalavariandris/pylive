{
 "cells": [
  {
   "cell_type": "code",
   "execution_count": null,
   "metadata": {},
   "outputs": [
    {
     "name": "stdout",
     "output_type": "stream",
     "text": [
      "append 7 # %% update\n"
     ]
    },
    {
     "data": {
      "text/plain": [
       "[['# %% setup',\n",
       "  'from textwrap import dedent',\n",
       "  '',\n",
       "  'script = \"\"\"',\n",
       "  '# %% hello',\n",
       "  '\"\"\"',\n",
       "  ''],\n",
       " ['# %% update',\n",
       "  'from pylive.QtLiveApp import display',\n",
       "  '',\n",
       "  'display(script)',\n",
       "  '']]"
      ]
     },
     "execution_count": 16,
     "metadata": {},
     "output_type": "execute_result"
    }
   ],
   "source": [
    "import re\n",
    "from typing import List\n",
    "script = \"\"\"\\\n",
    "# %% setup\n",
    "from textwrap import dedent\n",
    "\n",
    "script = \\\"\\\"\\\"\n",
    "# %% hello\n",
    "\\\"\\\"\\\"\n",
    "\n",
    "# %% update\n",
    "from pylive.QtLiveApp import display\n",
    "\n",
    "display(script)\n",
    "\"\"\"\n",
    "\n",
    "def split_cells(script:str)->List[str]:\n",
    "    cell_pattern = r\"#\\s*%%\" # Define a regex pattern to match the cell markers (`# %%`)\n",
    "    \n",
    "\n",
    "    cells = [[]]\n",
    "    Scope=\"TEXT\"\n",
    "    for lineno, line in enumerate(script.split(\"\\n\")):\n",
    "        if line:\n",
    "            code = line.split(\"#\")[-1]\n",
    "            CodeHasDocstring = code.count('\"\"\"')%2==1 or code.count(\"'''\")%2==1\n",
    "            CodeIsEmpty = False if len(line)>0 else True\n",
    "            CodeIsComment= line.lstrip()[0] == \"#\"\n",
    "            CodeIsHeading = re.match(cell_pattern, line.lstrip())\n",
    "\n",
    "            if CodeIsEmpty:\n",
    "                continue\n",
    "\n",
    "            if Scope == \"TEXT\":\n",
    "                if CodeIsHeading and lineno!=0:\n",
    "                    print(\"append\", lineno, line)\n",
    "                    cells.append([])\n",
    "                elif CodeHasDocstring:\n",
    "                    Scope = \"DOCSTRING\"\n",
    "            elif Scope == \"DOCSTRING\":\n",
    "                if CodeHasDocstring:\n",
    "                    Scope = \"TEXT\"\n",
    "\n",
    "\n",
    "        cells[-1].append(line)\n",
    "\n",
    "    return cells\n",
    "\n",
    "split_cells(script)\n",
    "\n"
   ]
  },
  {
   "cell_type": "code",
   "execution_count": null,
   "metadata": {},
   "outputs": [],
   "source": []
  }
 ],
 "metadata": {
  "kernelspec": {
   "display_name": ".venv",
   "language": "python",
   "name": "python3"
  },
  "language_info": {
   "codemirror_mode": {
    "name": "ipython",
    "version": 3
   },
   "file_extension": ".py",
   "mimetype": "text/x-python",
   "name": "python",
   "nbconvert_exporter": "python",
   "pygments_lexer": "ipython3",
   "version": "3.12.7"
  }
 },
 "nbformat": 4,
 "nbformat_minor": 2
}
