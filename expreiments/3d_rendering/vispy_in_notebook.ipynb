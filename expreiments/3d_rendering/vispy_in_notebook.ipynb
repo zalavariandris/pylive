{
 "cells": [
  {
   "cell_type": "code",
   "execution_count": 1,
   "metadata": {},
   "outputs": [
    {
     "data": {
      "application/vnd.jupyter.widget-view+json": {
       "model_id": "a14fdc171a4643f6aafc4725ef4481ec",
       "version_major": 2,
       "version_minor": 0
      },
      "text/plain": [
       "RFBOutputContext()"
      ]
     },
     "metadata": {},
     "output_type": "display_data"
    },
    {
     "name": "stderr",
     "output_type": "stream",
     "text": [
      "WARNING: SetProcessDpiAwarenessContext() failed: The operation completed successfully.\n",
      "Qt's default DPI awareness context is DPI_AWARENESS_CONTEXT_PER_MONITOR_AWARE_V2. If you know what you are doing, you can overwrite this default using qt.conf (https://doc.qt.io/qt-6/highdpi.html#configuring-windows).\n"
     ]
    },
    {
     "data": {
      "application/vnd.jupyter.widget-view+json": {
       "model_id": "e3b50f8cf9d54c1e9b89bd6df4c3c290",
       "version_major": 2,
       "version_minor": 0
      },
      "text/html": [
       "<div class='snapshot-e3b50f8cf9d54c1e9b89bd6df4c3c290' style='position:relative;'><img src='data:image/png;base64,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' style='width:500.0px;height:400.0px;' /><div style='position: absolute; top:0; left:0; padding:1px 3px; background: #777; color:#fff; font-size: 90%; font-family:sans-serif; '>snapshot</div></div>"
      ],
      "text/plain": [
       "CanvasBackend(css_height='400px')"
      ]
     },
     "execution_count": 1,
     "metadata": {},
     "output_type": "execute_result"
    }
   ],
   "source": [
    "from IPython.display import display\n",
    "from vispy import scene\n",
    "from vispy.visuals.transforms import STTransform\n",
    "\n",
    "canvas = scene.SceneCanvas(keys='interactive', bgcolor='white',\n",
    "                           size=(500, 400), show=True, resizable=True)\n",
    "\n",
    "view = canvas.central_widget.add_view()\n",
    "view.camera = 'arcball'\n",
    "\n",
    "sphere1 = scene.visuals.Sphere(radius=1, method='latitude', parent=view.scene,\n",
    "                               edge_color='black')\n",
    "\n",
    "sphere2 = scene.visuals.Sphere(radius=1, method='ico', parent=view.scene,\n",
    "                               edge_color='black')\n",
    "\n",
    "sphere3 = scene.visuals.Sphere(radius=1, rows=10, cols=10, depth=10,\n",
    "                               method='cube', parent=view.scene,\n",
    "                               edge_color='black')\n",
    "\n",
    "sphere1.transform = STTransform(translate=[-2.5, 0, 0])\n",
    "sphere3.transform = STTransform(translate=[2.5, 0, 0])\n",
    "\n",
    "view.camera.set_range(x=[-3, 3])\n",
    "canvas"
   ]
  },
  {
   "cell_type": "code",
   "execution_count": null,
   "metadata": {},
   "outputs": [],
   "source": []
  }
 ],
 "metadata": {
  "kernelspec": {
   "display_name": ".venv",
   "language": "python",
   "name": "python3"
  },
  "language_info": {
   "codemirror_mode": {
    "name": "ipython",
    "version": 3
   },
   "file_extension": ".py",
   "mimetype": "text/x-python",
   "name": "python",
   "nbconvert_exporter": "python",
   "pygments_lexer": "ipython3",
   "version": "3.12.7"
  }
 },
 "nbformat": 4,
 "nbformat_minor": 2
}
