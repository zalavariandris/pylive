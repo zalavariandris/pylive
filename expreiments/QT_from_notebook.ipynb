{
 "cells": [
  {
   "cell_type": "code",
   "execution_count": null,
   "metadata": {},
   "outputs": [
    {
     "name": "stdout",
     "output_type": "stream",
     "text": [
      "setTabSize 4\n"
     ]
    }
   ],
   "source": [
    "### INIT Pyside and ScriptEdit ###\n",
    "\n",
    "from PySide6.QtWidgets import *\n",
    "%gui qt\n",
    "app = QApplication.instance()  # Reuse the existing instance if available\n",
    "if app is None:  # If no instance exists, create one\n",
    "    app = QApplication([])\n",
    "\n",
    "# Create a simple Qt widget\n",
    "from pylive.QtScriptEditor.script_edit import ScriptEdit\n",
    "script_edit = ScriptEdit()\n",
    "script_edit.show()"
   ]
  },
  {
   "cell_type": "code",
   "execution_count": null,
   "metadata": {},
   "outputs": [],
   "source": [
    "# set the script\n",
    "from textwrap import dedent\n",
    "script_edit.setPlainText(dedent(\"\"\"\\\n",
    "def hello():\n",
    "    print(\"boom\")\n",
    "\"\"\"))"
   ]
  },
  {
   "cell_type": "code",
   "execution_count": null,
   "metadata": {},
   "outputs": [],
   "source": [
    "# from pylive.QtScriptEditor.components.invisibles_highlighter import InvisiblesHighlighter\n",
    "\n",
    "from pylive.QtScriptEditor.components.simple_python_highlighter import SimplePythonHighlighter\n",
    "script_edit.highlighter = SimplePythonHighlighter(script_edit.document())"
   ]
  },
  {
   "cell_type": "code",
   "execution_count": 7,
   "metadata": {},
   "outputs": [],
   "source": [
    "from pylive.QtScriptEditor.components.pygments_syntax_highlighter import PygmentsSyntaxHighlighter\n",
    "script_edit.highlighter = PygmentsSyntaxHighlighter(script_edit.document())"
   ]
  },
  {
   "cell_type": "code",
   "execution_count": null,
   "metadata": {},
   "outputs": [],
   "source": []
  }
 ],
 "metadata": {
  "kernelspec": {
   "display_name": ".venv",
   "language": "python",
   "name": "python3"
  },
  "language_info": {
   "codemirror_mode": {
    "name": "ipython",
    "version": 3
   },
   "file_extension": ".py",
   "mimetype": "text/x-python",
   "name": "python",
   "nbconvert_exporter": "python",
   "pygments_lexer": "ipython3",
   "version": "3.12.7"
  }
 },
 "nbformat": 4,
 "nbformat_minor": 2
}
